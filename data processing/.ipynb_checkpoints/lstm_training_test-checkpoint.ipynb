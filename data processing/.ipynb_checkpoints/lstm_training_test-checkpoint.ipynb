{
 "cells": [
  {
   "cell_type": "code",
   "execution_count": 1,
   "metadata": {},
   "outputs": [
    {
     "name": "stdout",
     "output_type": "stream",
     "text": [
      "%pylab is deprecated, use %matplotlib inline and import the required libraries.\n",
      "Populating the interactive namespace from numpy and matplotlib\n"
     ]
    },
    {
     "name": "stderr",
     "output_type": "stream",
     "text": [
      "c:\\users\\pierre-nicolas\\pycharmprojects\\soundsymbolism\\venv\\lib\\site-packages\\IPython\\core\\magics\\pylab.py:162: UserWarning: pylab import has clobbered these variables: ['plt']\n",
      "`%matplotlib` prevents importing * from pylab and numpy\n",
      "  warn(\"pylab import has clobbered these variables: %s\"  % clobbered +\n"
     ]
    }
   ],
   "source": [
    "import pandas as pd\n",
    "import numpy as np\n",
    "import matplotlib as plt\n",
    "%pylab inline"
   ]
  },
  {
   "cell_type": "code",
   "execution_count": 2,
   "metadata": {},
   "outputs": [],
   "source": [
    "import torch\n",
    "from torch import nn\n",
    "from torch.utils.data import TensorDataset, DataLoader\n",
    "\n",
    "from sklearn.metrics import mean_squared_error, mean_absolute_error\n",
    "import time"
   ]
  },
  {
   "cell_type": "code",
   "execution_count": 7,
   "metadata": {},
   "outputs": [],
   "source": [
    "#import IMVFullLSTM"
   ]
  },
  {
   "cell_type": "code",
   "execution_count": 20,
   "metadata": {},
   "outputs": [],
   "source": [
    "data = pd.read_csv(\"../Data/rnn_data.csv\", encoding='utf8').sample(frac=1)\n",
    "data1 = data[:7000]\n",
    "data2 = data[7000:]"
   ]
  },
  {
   "cell_type": "code",
   "execution_count": 25,
   "metadata": {},
   "outputs": [],
   "source": [
    "train_size = 3200\n",
    "val_size = 400\n",
    "depth = 4\n",
    "batch_size = 128\n",
    "prediction_horizon = 1"
   ]
  },
  {
   "cell_type": "code",
   "execution_count": 33,
   "metadata": {},
   "outputs": [],
   "source": [
    "target = 'clusterID'\n",
    "cols = [,ʒ,ʃ,ɹ,f,ʊ,i,æ,ɛ,ɡ,p,w,d͡ʒ,k,ŋ,oʊ,aɪ,j,ə,t,ð,z,aʊ,m,ɪ,d,θ,h,b,ɚ,u,n,s,v,ɑ,eɪ,ɔ,t͡ʃ,ɔɪ,l]"
   ]
  },
  {
   "cell_type": "code",
   "execution_count": 34,
   "metadata": {},
   "outputs": [],
   "source": [
    "X_train1 = np.zeros((len(data1), depth, len(cols)))\n",
    "y_train1 = np.zeros((len(data1), 1))"
   ]
  },
  {
   "cell_type": "code",
   "execution_count": 35,
   "metadata": {},
   "outputs": [
    {
     "ename": "ValueError",
     "evalue": "could not convert string to float: 'ˈb ɑ z n i ə n'",
     "output_type": "error",
     "traceback": [
      "\u001b[1;31m---------------------------------------------------------------------------\u001b[0m",
      "\u001b[1;31mValueError\u001b[0m                                Traceback (most recent call last)",
      "Input \u001b[1;32mIn [35]\u001b[0m, in \u001b[0;36m<cell line: 1>\u001b[1;34m()\u001b[0m\n\u001b[0;32m      1\u001b[0m \u001b[38;5;28;01mfor\u001b[39;00m i, name \u001b[38;5;129;01min\u001b[39;00m \u001b[38;5;28menumerate\u001b[39m(cols):\n\u001b[0;32m      2\u001b[0m     \u001b[38;5;28;01mfor\u001b[39;00m j \u001b[38;5;129;01min\u001b[39;00m \u001b[38;5;28mrange\u001b[39m(depth):\n\u001b[1;32m----> 3\u001b[0m         X_train1[:, j, i] \u001b[38;5;241m=\u001b[39m (data1[name])\u001b[38;5;241m.\u001b[39mshift(depth \u001b[38;5;241m-\u001b[39m j \u001b[38;5;241m-\u001b[39m \u001b[38;5;241m1\u001b[39m)\u001b[38;5;241m.\u001b[39mfillna(method\u001b[38;5;241m=\u001b[39m\u001b[38;5;124m\"\u001b[39m\u001b[38;5;124mbfill\u001b[39m\u001b[38;5;124m\"\u001b[39m)\n\u001b[0;32m      4\u001b[0m y_train1 \u001b[38;5;241m=\u001b[39m data1[target]\u001b[38;5;241m.\u001b[39mshift(\u001b[38;5;241m-\u001b[39mprediction_horizon)\u001b[38;5;241m.\u001b[39mfillna(method\u001b[38;5;241m=\u001b[39m\u001b[38;5;124m'\u001b[39m\u001b[38;5;124mffill\u001b[39m\u001b[38;5;124m'\u001b[39m)\n",
      "File \u001b[1;32mc:\\users\\pierre-nicolas\\pycharmprojects\\soundsymbolism\\venv\\lib\\site-packages\\pandas\\core\\series.py:872\u001b[0m, in \u001b[0;36mSeries.__array__\u001b[1;34m(self, dtype)\u001b[0m\n\u001b[0;32m    825\u001b[0m \u001b[38;5;28;01mdef\u001b[39;00m \u001b[38;5;21m__array__\u001b[39m(\u001b[38;5;28mself\u001b[39m, dtype: npt\u001b[38;5;241m.\u001b[39mDTypeLike \u001b[38;5;241m|\u001b[39m \u001b[38;5;28;01mNone\u001b[39;00m \u001b[38;5;241m=\u001b[39m \u001b[38;5;28;01mNone\u001b[39;00m) \u001b[38;5;241m-\u001b[39m\u001b[38;5;241m>\u001b[39m np\u001b[38;5;241m.\u001b[39mndarray:\n\u001b[0;32m    826\u001b[0m     \u001b[38;5;124;03m\"\"\"\u001b[39;00m\n\u001b[0;32m    827\u001b[0m \u001b[38;5;124;03m    Return the values as a NumPy array.\u001b[39;00m\n\u001b[0;32m    828\u001b[0m \n\u001b[1;32m   (...)\u001b[0m\n\u001b[0;32m    870\u001b[0m \u001b[38;5;124;03m          dtype='datetime64[ns]')\u001b[39;00m\n\u001b[0;32m    871\u001b[0m \u001b[38;5;124;03m    \"\"\"\u001b[39;00m\n\u001b[1;32m--> 872\u001b[0m     \u001b[38;5;28;01mreturn\u001b[39;00m \u001b[43mnp\u001b[49m\u001b[38;5;241;43m.\u001b[39;49m\u001b[43masarray\u001b[49m\u001b[43m(\u001b[49m\u001b[38;5;28;43mself\u001b[39;49m\u001b[38;5;241;43m.\u001b[39;49m\u001b[43m_values\u001b[49m\u001b[43m,\u001b[49m\u001b[43m \u001b[49m\u001b[43mdtype\u001b[49m\u001b[43m)\u001b[49m\n",
      "\u001b[1;31mValueError\u001b[0m: could not convert string to float: 'ˈb ɑ z n i ə n'"
     ]
    }
   ],
   "source": [
    "for i, name in enumerate(cols):\n",
    "    for j in range(depth):\n",
    "        X_train1[:, j, i] = (data1[name]).shift(depth - j - 1).fillna(method=\"bfill\")\n",
    "y_train1 = data1[target].shift(-prediction_horizon).fillna(method='ffill')"
   ]
  },
  {
   "cell_type": "code",
   "execution_count": 16,
   "metadata": {},
   "outputs": [],
   "source": [
    "X_train1 = X_train1[depth:-prediction_horizon]\n",
    "y_train1 = y_train1[depth:-prediction_horizon]"
   ]
  },
  {
   "cell_type": "code",
   "execution_count": null,
   "metadata": {},
   "outputs": [],
   "source": [
    "X2 = np.zeros((len(data2), depth, len(cols)))\n",
    "y2 = np.zeros((len(data2), 1))"
   ]
  },
  {
   "cell_type": "code",
   "execution_count": null,
   "metadata": {},
   "outputs": [],
   "source": [
    "for i, name in enumerate(cols):\n",
    "    for j in range(depth):\n",
    "        X2[:, j, i] = data2[name].shift(depth - j - 1).fillna(method=\"bfill\")\n",
    "y2 = data2[target].shift(-prediction_horizon).fillna(method='ffill')"
   ]
  },
  {
   "cell_type": "code",
   "execution_count": null,
   "metadata": {},
   "outputs": [],
   "source": [
    "X_train2 = X2[:train_size - len(data1)]\n",
    "y_train2 = y2[:train_size - len(data1)]\n",
    "\n",
    "X_val = X2[train_size - len(data1):train_size - len(data1) + val_size]\n",
    "y_val = y2[train_size - len(data1):train_size - len(data1) + val_size]\n",
    "\n",
    "X_test = X2[train_size - len(data1) + val_size:]\n",
    "y_test = y2[train_size - len(data1) + val_size:]\n",
    "\n",
    "X_train2 = X_train2[depth:]\n",
    "y_train2 = y_train2[depth:]\n",
    "\n",
    "X_train = np.concatenate([X_train1, X_train2], axis=0)\n",
    "y_train = np.concatenate([y_train1, y_train2], axis=0)\n",
    "\n",
    "X_train.shape, y_train.shape"
   ]
  },
  {
   "cell_type": "code",
   "execution_count": null,
   "metadata": {},
   "outputs": [],
   "source": [
    "X_train_min, y_train_min = X_train.min(axis=0), y_train.min(axis=0)\n",
    "X_train_max, y_train_max = X_train.max(axis=0), y_train.max(axis=0)"
   ]
  },
  {
   "cell_type": "code",
   "execution_count": null,
   "metadata": {},
   "outputs": [],
   "source": [
    "X_train = (X_train - X_train_min)/(X_train_max - X_train_min + 1e-9)\n",
    "X_val = (X_val - X_train_min)/(X_train_max - X_train_min + 1e-9)\n",
    "X_test = (X_test - X_train_min)/(X_train_max - X_train_min + 1e-9)\n",
    "\n",
    "y_train = (y_train - y_train_min)/(y_train_max - y_train_min + 1e-9)\n",
    "y_val = (y_val - y_train_min)/(y_train_max - y_train_min + 1e-9)\n",
    "y_test = (y_test - y_train_min)/(y_train_max - y_train_min + 1e-9)\n",
    "\n",
    "X_train_t = torch.Tensor(X_train)\n",
    "X_val_t = torch.Tensor(X_val)\n",
    "X_test_t = torch.Tensor(X_test)\n",
    "y_train_t = torch.Tensor(y_train)\n",
    "y_val_t = torch.Tensor(y_val.values)\n",
    "y_test_t = torch.Tensor(y_test.values)"
   ]
  },
  {
   "cell_type": "code",
   "execution_count": null,
   "metadata": {},
   "outputs": [],
   "source": [
    "train_loader = DataLoader(TensorDataset(X_train_t, y_train_t), shuffle=True, batch_size=batch_size)\n",
    "val_loader = DataLoader(TensorDataset(X_val_t, y_val_t), shuffle=False, batch_size=batch_size)\n",
    "test_loader = DataLoader(TensorDataset(X_test_t, y_test_t), shuffle=False, batch_size=batch_size)"
   ]
  },
  {
   "cell_type": "code",
   "execution_count": null,
   "metadata": {},
   "outputs": [],
   "source": [
    "model = IMVFullLSTM(X_train.shape[2], 1, 128).cuda()\n",
    "opt = torch.optim.Adam(model.parameters(), lr=0.001)"
   ]
  },
  {
   "cell_type": "code",
   "execution_count": null,
   "metadata": {},
   "outputs": [],
   "source": [
    "epoch_scheduler = torch.optim.lr_scheduler.StepLR(opt, 20, gamma=0.9)"
   ]
  },
  {
   "cell_type": "code",
   "execution_count": null,
   "metadata": {},
   "outputs": [],
   "source": [
    "epochs = 1000\n",
    "loss = nn.MSELoss()\n",
    "patience = 35\n",
    "min_val_loss = 9999\n",
    "counter = 0\n",
    "for i in range(epochs):\n",
    "    mse_train = 0\n",
    "    iteration_start = time.monotonic()\n",
    "    for batch_x, batch_y in train_loader :\n",
    "        batch_x = batch_x.cuda()\n",
    "        batch_y = batch_y.cuda()\n",
    "        opt.zero_grad()\n",
    "        y_pred, alphas, betas = model(batch_x)\n",
    "        y_pred = y_pred.squeeze(1)\n",
    "        l = loss(y_pred, batch_y)\n",
    "        l.backward()\n",
    "        mse_train += l.item()*batch_x.shape[0]\n",
    "        opt.step()\n",
    "    epoch_scheduler.step()\n",
    "    with torch.no_grad():\n",
    "        mse_val = 0\n",
    "        preds = []\n",
    "        true = []\n",
    "        for batch_x, batch_y in val_loader:\n",
    "            batch_x = batch_x.cuda()\n",
    "            batch_y = batch_y.cuda()\n",
    "            output, alphas, betas = model(batch_x)\n",
    "            output = output.squeeze(1)\n",
    "            preds.append(output.detach().cpu().numpy())\n",
    "            true.append(batch_y.detach().cpu().numpy())\n",
    "            mse_val += loss(output, batch_y).item()*batch_x.shape[0]\n",
    "    preds = np.concatenate(preds)\n",
    "    true = np.concatenate(true)\n",
    "    \n",
    "    if min_val_loss > mse_val**0.5:\n",
    "        min_val_loss = mse_val**0.5\n",
    "        print(\"Saving...\")\n",
    "        torch.save(model.state_dict(), \"imv_lstm_sml2010.pt\")\n",
    "        counter = 0\n",
    "    else: \n",
    "        counter += 1\n",
    "    \n",
    "    if counter == patience:\n",
    "        break\n",
    "    print(\"Iter: \", i, \"train: \", (mse_train/len(X_train_t))**0.5, \"val: \", (mse_val/len(X_val_t))**0.5)\n",
    "    iteration_end = time.monotonic()\n",
    "    print(\"Iter time: \", iteration_end - iteration_start)\n",
    "    if(i % 10 == 0):\n",
    "        preds = preds*(y_train_max - y_train_min) + y_train_min\n",
    "        true = true*(y_train_max - y_train_min) + y_train_min\n",
    "        mse = mean_squared_error(true, preds)\n",
    "        mae = mean_absolute_error(true, preds)\n",
    "        print(\"mse: \", mse, \"mae: \", mae)\n",
    "        plt.figure(figsize=(20, 10))\n",
    "        plt.plot(preds)\n",
    "        plt.plot(true)\n",
    "        plt.show()"
   ]
  },
  {
   "cell_type": "code",
   "execution_count": null,
   "metadata": {},
   "outputs": [],
   "source": []
  },
  {
   "cell_type": "code",
   "execution_count": null,
   "metadata": {},
   "outputs": [],
   "source": []
  },
  {
   "cell_type": "code",
   "execution_count": null,
   "metadata": {},
   "outputs": [],
   "source": []
  }
 ],
 "metadata": {
  "kernelspec": {
   "display_name": "Python 3 (ipykernel)",
   "language": "python",
   "name": "python3"
  },
  "language_info": {
   "codemirror_mode": {
    "name": "ipython",
    "version": 3
   },
   "file_extension": ".py",
   "mimetype": "text/x-python",
   "name": "python",
   "nbconvert_exporter": "python",
   "pygments_lexer": "ipython3",
   "version": "3.10.0"
  }
 },
 "nbformat": 4,
 "nbformat_minor": 1
}
